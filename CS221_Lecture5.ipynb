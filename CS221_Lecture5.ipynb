{
  "nbformat": 4,
  "nbformat_minor": 0,
  "metadata": {
    "colab": {
      "name": "StanfordCS221.ipynb",
      "provenance": [],
      "authorship_tag": "ABX9TyPaiG38f7NAlElE0QkkJ5Be"
    },
    "kernelspec": {
      "name": "python3",
      "display_name": "Python 3"
    }
  },
  "cells": [
    {
      "cell_type": "code",
      "metadata": {
        "id": "7uyL-4jhfiKk"
      },
      "source": [
        "#Lecture 5\n",
        "'''\n",
        "Tram Search Problem:\n",
        "Imagine streets with blocks are numbered from 1 to n. \n",
        "Walking from block s to block s+1 takes 1 minute\n",
        "Taking a magic tram from block s to block 2s takes 2 minutes\n",
        "\n",
        "Question: How to travel from 1 to n in the least time?\n",
        "'''\n",
        "\n",
        "#Throughout all lectures, Professor Liang and Professor Sadigh emphasize a \"Model/Inference/Learning\" paradign\n",
        "#Model=Problem Setup (no algorithms, just setting the problem structure)\n",
        "#Inference=Algorithms/predictions\n",
        "#Learning=Learn the parameters of the model (if not available)\n",
        "\n",
        "#Model\n",
        "class TransportationProblem(object):\n",
        "  def __init__(self,N):\n",
        "    self.N=N\n",
        "  def startState(self):\n",
        "    return 1\n",
        "  def isEnd(self,state):\n",
        "    if state==self.N:\n",
        "      return True\n",
        "  def SuccandCost(self,state):\n",
        "    #For the state you are currently in, return (action/newState/cost)\n",
        "    result=[]\n",
        "    if state+1<=self.N:\n",
        "      result.append(('walk',state+1,1))\n",
        "    if state*2<=self.N:\n",
        "      result.append(('tram',state*2,2))\n",
        "    return result\n"
      ],
      "execution_count": 2,
      "outputs": []
    },
    {
      "cell_type": "code",
      "metadata": {
        "id": "W4F7LOVdb2bA"
      },
      "source": [
        "problem=TransportationProblem(10)\n",
        "#Check to see if works\n",
        "#print(problem.SuccandCost(5))\n",
        "#print(problem.SuccandCost(9))"
      ],
      "execution_count": 57,
      "outputs": []
    },
    {
      "cell_type": "code",
      "metadata": {
        "id": "s_1pVgHwb7k1"
      },
      "source": [
        "#First Algorithm: Backtracking Search\n",
        "\n",
        "#Inference\n",
        "def backTrackingSearch(problem):\n",
        "  bestCostAndPath={\n",
        "   'cost':float('+inf'),\n",
        "   'path':None\n",
        "  }\n",
        "  history=[]\n",
        "  totalCost=0\n",
        "  def recurse(state,history,totalcost):\n",
        "    if problem.isEnd(state):\n",
        "      if bestCostAndPath['cost']>totalcost:\n",
        "        bestCostAndPath['cost']=totalcost\n",
        "        bestCostAndPath['path']=history  \n",
        "      return \n",
        "    for action,nextstate,cost in problem.SuccandCost(state):\n",
        "      recurse(nextstate,history+[(action,nextstate)],totalcost+cost)\n",
        "\n",
        "  recurse(problem.startState(),history,totalCost)\n",
        "  return (bestCostAndPath['cost'],bestCostAndPath['path'])\n"
      ],
      "execution_count": 58,
      "outputs": []
    },
    {
      "cell_type": "code",
      "metadata": {
        "id": "Nr4IQrO8lZR4"
      },
      "source": [
        "#Neatly format solution\n",
        "def printSolution(CostAndPath):\n",
        "  cost=CostAndPath[0]\n",
        "  totalpath=CostAndPath[1]\n",
        "  print('Total Cost: {}'.format(cost))\n",
        "  for path in totalpath:\n",
        "    print(path)\n",
        "\n",
        "problem=TransportationProblem(10)\n",
        "\n",
        "#printSolution(backTrackingSearch(problem))"
      ],
      "execution_count": 61,
      "outputs": []
    },
    {
      "cell_type": "code",
      "metadata": {
        "id": "vDkmGAU0r0CJ"
      },
      "source": [
        "#Second Algorithm: Dynammic Programming\n",
        "   \n"
      ],
      "execution_count": null,
      "outputs": []
    }
  ]
}